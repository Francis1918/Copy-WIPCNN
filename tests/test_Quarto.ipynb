{
 "cells": [
  {
   "cell_type": "code",
   "execution_count": 1,
   "id": "53b37d9a",
   "metadata": {},
   "outputs": [],
   "source": [
    "%load_ext autoreload\n",
    "import sys\n",
    "from pathlib import Path\n",
    "\n",
    "sys.path.append(str(Path('..').resolve()))\n",
    "import os\n",
    "\n",
    "if os.path.basename(os.getcwd()) == \"tests\":\n",
    "    os.chdir(\"..\")"
   ]
  },
  {
   "cell_type": "code",
   "execution_count": 2,
   "id": "9a6ef20a",
   "metadata": {},
   "outputs": [
    {
     "name": "stdout",
     "output_type": "stream",
     "text": [
      "[06-03 10:12:40][DEBUG] Creating logger for Quartopy game\n",
      "[06-03 10:12:40][INFO] 2025-06-03 10:12:40.464552\n",
      "[06-03 10:12:40][DEBUG] quartopy.game.quarto_game importado correctamente\n",
      "Directorio de bots integrado: C:\\Users\\Jonathan Zea\\Documents\\GitHub\\Quartopy\\bot\n",
      "0 , LKRN\n",
      "1 , LKRH\n",
      "2 , LKQN\n",
      "3 , LKQH\n",
      "4 , LWRN\n",
      "5 , LWRH\n",
      "6 , LWQN\n",
      "7 , LWQH\n",
      "8 , TKRN\n",
      "9 , TKRH\n",
      "10 , TKQN\n",
      "11 , TKQH\n",
      "12 , TWRN\n",
      "13 , TWRH\n",
      "14 , TWQN\n",
      "15 , TWQH\n"
     ]
    }
   ],
   "source": [
    "from quartopy import Piece\n",
    "\n",
    "for i in range(16):\n",
    "    piece = Piece.from_index(i)\n",
    "    print(i, \",\", piece)"
   ]
  },
  {
   "cell_type": "code",
   "execution_count": 3,
   "id": "cdf5eed5",
   "metadata": {},
   "outputs": [
    {
     "name": "stdout",
     "output_type": "stream",
     "text": [
      "0, 0, 0\n",
      "0, 1, 1\n",
      "0, 2, 2\n",
      "0, 3, 3\n",
      "1, 0, 4\n",
      "1, 1, 5\n",
      "1, 2, 6\n",
      "1, 3, 7\n",
      "2, 0, 8\n",
      "2, 1, 9\n",
      "2, 2, 10\n",
      "2, 3, 11\n",
      "3, 0, 12\n",
      "3, 1, 13\n",
      "3, 2, 14\n",
      "3, 3, 15\n"
     ]
    }
   ],
   "source": [
    "from quartopy import Board\n",
    "\n",
    "board = Board(\"abc\", False, 4, 4)\n",
    "for r in range(4):\n",
    "    for c in range(4):\n",
    "        print(r, c, board.pos2index(r, c), sep=\", \")"
   ]
  },
  {
   "cell_type": "code",
   "execution_count": 4,
   "id": "a05890fc",
   "metadata": {},
   "outputs": [
    {
     "name": "stdout",
     "output_type": "stream",
     "text": [
      "0, (0, 0)\n",
      "1, (0, 1)\n",
      "2, (0, 2)\n",
      "3, (0, 3)\n",
      "4, (1, 0)\n",
      "5, (1, 1)\n",
      "6, (1, 2)\n",
      "7, (1, 3)\n",
      "8, (2, 0)\n",
      "9, (2, 1)\n",
      "10, (2, 2)\n",
      "11, (2, 3)\n",
      "12, (3, 0)\n",
      "13, (3, 1)\n",
      "14, (3, 2)\n",
      "15, (3, 3)\n"
     ]
    }
   ],
   "source": [
    "for i in range(16):\n",
    "    print(i, board.get_position_index(i), sep=\", \")"
   ]
  }
 ],
 "metadata": {
  "kernelspec": {
   "display_name": "Python 3",
   "language": "python",
   "name": "python3"
  },
  "language_info": {
   "codemirror_mode": {
    "name": "ipython",
    "version": 3
   },
   "file_extension": ".py",
   "mimetype": "text/x-python",
   "name": "python",
   "nbconvert_exporter": "python",
   "pygments_lexer": "ipython3",
   "version": "3.10.11"
  }
 },
 "nbformat": 4,
 "nbformat_minor": 5
}
