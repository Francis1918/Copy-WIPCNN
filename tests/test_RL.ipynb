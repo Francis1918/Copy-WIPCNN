{
 "cells": [
  {
   "cell_type": "code",
   "execution_count": 1,
   "id": "53b37d9a",
   "metadata": {},
   "outputs": [],
   "source": [
    "%load_ext autoreload\n",
    "import sys\n",
    "from pathlib import Path\n",
    "\n",
    "sys.path.append(str(Path('..').resolve()))\n",
    "import os\n",
    "\n",
    "if os.path.basename(os.getcwd()) == \"tests\":\n",
    "    os.chdir(\"..\")"
   ]
  },
  {
   "cell_type": "code",
   "execution_count": 2,
   "id": "7ff612d2",
   "metadata": {},
   "outputs": [
    {
     "name": "stdout",
     "output_type": "stream",
     "text": [
      "[06-03 10:53:03][INFO] 2025-06-03 10:53:03.222366\n",
      "[06-03 10:53:06][DEBUG] Creating logger for Quartopy game\n",
      "[06-03 10:53:06][INFO] 2025-06-03 10:53:06.289925\n",
      "[06-03 10:53:06][DEBUG] quartopy.game.quarto_game importado correctamente\n",
      "Directorio de bots integrado: C:\\Users\\Jonathan Zea\\Documents\\GitHub\\Quartopy\\bot\n"
     ]
    }
   ],
   "source": [
    "from QuartoRL import process_match"
   ]
  },
  {
   "cell_type": "code",
   "execution_count": 3,
   "id": "3a956845",
   "metadata": {},
   "outputs": [
    {
     "data": {
      "text/html": [
       "<div>\n",
       "<style scoped>\n",
       "    .dataframe tbody tr th:only-of-type {\n",
       "        vertical-align: middle;\n",
       "    }\n",
       "\n",
       "    .dataframe tbody tr th {\n",
       "        vertical-align: top;\n",
       "    }\n",
       "\n",
       "    .dataframe thead th {\n",
       "        text-align: right;\n",
       "    }\n",
       "</style>\n",
       "<table border=\"1\" class=\"dataframe\">\n",
       "  <thead>\n",
       "    <tr style=\"text-align: right;\">\n",
       "      <th></th>\n",
       "      <th>observation</th>\n",
       "      <th>action</th>\n",
       "      <th>reward</th>\n",
       "    </tr>\n",
       "  </thead>\n",
       "  <tbody>\n",
       "    <tr>\n",
       "      <th>0</th>\n",
       "      <td>0000000000000000000000000000000000000000000000...</td>\n",
       "      <td>(10, 8)</td>\n",
       "      <td>1</td>\n",
       "    </tr>\n",
       "    <tr>\n",
       "      <th>1</th>\n",
       "      <td>0000000000000000000000000000000000000000000000...</td>\n",
       "      <td>(12, 11)</td>\n",
       "      <td>1</td>\n",
       "    </tr>\n",
       "    <tr>\n",
       "      <th>2</th>\n",
       "      <td>0000000000000000000000000000000000000000000000...</td>\n",
       "      <td>(14, 3)</td>\n",
       "      <td>1</td>\n",
       "    </tr>\n",
       "    <tr>\n",
       "      <th>3</th>\n",
       "      <td>0000000000000000000000000000000000000000000000...</td>\n",
       "      <td>(2, 0)</td>\n",
       "      <td>1</td>\n",
       "    </tr>\n",
       "    <tr>\n",
       "      <th>4</th>\n",
       "      <td>0000000010000000000000000000000000010000000000...</td>\n",
       "      <td>(3, 1)</td>\n",
       "      <td>1</td>\n",
       "    </tr>\n",
       "    <tr>\n",
       "      <th>5</th>\n",
       "      <td>0000000010000000000000000000000100010000000000...</td>\n",
       "      <td>(4, 7)</td>\n",
       "      <td>1</td>\n",
       "    </tr>\n",
       "    <tr>\n",
       "      <th>6</th>\n",
       "      <td>0000000010000000000000000000000100010000000000...</td>\n",
       "      <td>(1, -1)</td>\n",
       "      <td>1</td>\n",
       "    </tr>\n",
       "  </tbody>\n",
       "</table>\n",
       "</div>"
      ],
      "text/plain": [
       "                                         observation    action  reward\n",
       "0  0000000000000000000000000000000000000000000000...   (10, 8)       1\n",
       "1  0000000000000000000000000000000000000000000000...  (12, 11)       1\n",
       "2  0000000000000000000000000000000000000000000000...   (14, 3)       1\n",
       "3  0000000000000000000000000000000000000000000000...    (2, 0)       1\n",
       "4  0000000010000000000000000000000000010000000000...    (3, 1)       1\n",
       "5  0000000010000000000000000000000100010000000000...    (4, 7)       1\n",
       "6  0000000010000000000000000000000100010000000000...   (1, -1)       1"
      ]
     },
     "execution_count": 3,
     "metadata": {},
     "output_type": "execute_result"
    }
   ],
   "source": [
    "a, b = process_match(\n",
    "    \"c:/Users/Jonathan Zea/Documents/GitHub/hierarchical-SAE/partidas_guardadas/delet/20250603_1026/2025-06-03_10-26-50_match001.csv\",\n",
    "    result=-1,\n",
    ")\n",
    "b"
   ]
  }
 ],
 "metadata": {
  "kernelspec": {
   "display_name": "Python 3",
   "language": "python",
   "name": "python3"
  },
  "language_info": {
   "codemirror_mode": {
    "name": "ipython",
    "version": 3
   },
   "file_extension": ".py",
   "mimetype": "text/x-python",
   "name": "python",
   "nbconvert_exporter": "python",
   "pygments_lexer": "ipython3",
   "version": "3.10.11"
  }
 },
 "nbformat": 4,
 "nbformat_minor": 5
}
