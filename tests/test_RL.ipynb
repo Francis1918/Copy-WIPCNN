{
 "cells": [
  {
   "cell_type": "code",
   "execution_count": 1,
   "id": "53b37d9a",
   "metadata": {},
   "outputs": [],
   "source": [
    "%load_ext autoreload\n",
    "import sys\n",
    "from pathlib import Path\n",
    "\n",
    "sys.path.append(str(Path('..').resolve()))\n",
    "import os\n",
    "\n",
    "if os.path.basename(os.getcwd()) == \"tests\":\n",
    "    os.chdir(\"..\")"
   ]
  },
  {
   "cell_type": "code",
   "execution_count": 2,
   "id": "7ff612d2",
   "metadata": {},
   "outputs": [
    {
     "name": "stdout",
     "output_type": "stream",
     "text": [
      "[06-04 01:31:49][INFO] 2025-06-04 01:31:49.077406\n",
      "[06-04 01:31:54][DEBUG] Creating logger for Quartopy game\n",
      "[06-04 01:31:54][INFO] 2025-06-04 01:31:54.413349\n",
      "[06-04 01:31:54][DEBUG] quartopy.game.quarto_game importado correctamente\n",
      "Directorio de bots integrado: C:\\Users\\Jonathan Zea\\Documents\\GitHub\\Quartopy\\bot\n"
     ]
    }
   ],
   "source": [
    "from QuartoRL import process_match"
   ]
  },
  {
   "cell_type": "code",
   "execution_count": 3,
   "id": "3a956845",
   "metadata": {},
   "outputs": [
    {
     "ename": "AssertionError",
     "evalue": "Mismatch in lengths: 10 vs 8",
     "output_type": "error",
     "traceback": [
      "\u001b[1;31m---------------------------------------------------------------------------\u001b[0m",
      "\u001b[1;31mAssertionError\u001b[0m                            Traceback (most recent call last)",
      "Cell \u001b[1;32mIn[3], line 1\u001b[0m\n\u001b[1;32m----> 1\u001b[0m a, b \u001b[38;5;241m=\u001b[39m \u001b[43mprocess_match\u001b[49m\u001b[43m(\u001b[49m\n\u001b[0;32m      2\u001b[0m \u001b[43m    \u001b[49m\u001b[38;5;124;43m\"\u001b[39;49m\u001b[38;5;124;43mc:/Users/Jonathan Zea/Documents/GitHub/hierarchical-SAE/partidas_guardadas/delet/20250604_0130/2025-06-04_01-30-15_match019.csv\u001b[39;49m\u001b[38;5;124;43m\"\u001b[39;49m\u001b[43m,\u001b[49m\n\u001b[0;32m      3\u001b[0m \u001b[43m    \u001b[49m\u001b[43mresult\u001b[49m\u001b[38;5;241;43m=\u001b[39;49m\u001b[38;5;241;43m0\u001b[39;49m\u001b[43m,\u001b[49m\n\u001b[0;32m      4\u001b[0m \u001b[43m)\u001b[49m\n\u001b[0;32m      5\u001b[0m b\n",
      "File \u001b[1;32mc:\\Users\\Jonathan Zea\\Documents\\GitHub\\hierarchical-SAE\\QuartoRL\\RL_functions.py:127\u001b[0m, in \u001b[0;36mprocess_match\u001b[1;34m(match_path, result)\u001b[0m\n\u001b[0;32m    125\u001b[0m     p2[\u001b[38;5;124m\"\u001b[39m\u001b[38;5;124mreward\u001b[39m\u001b[38;5;124m\"\u001b[39m] \u001b[38;5;241m=\u001b[39m \u001b[38;5;241m0\u001b[39m\n\u001b[0;32m    126\u001b[0m     p1\u001b[38;5;241m.\u001b[39mloc[p1\u001b[38;5;241m.\u001b[39mindex[\u001b[38;5;241m-\u001b[39m\u001b[38;5;241m1\u001b[39m], \u001b[38;5;124m\"\u001b[39m\u001b[38;5;124mdone\u001b[39m\u001b[38;5;124m\"\u001b[39m] \u001b[38;5;241m=\u001b[39m \u001b[38;5;28;01mTrue\u001b[39;00m\n\u001b[1;32m--> 127\u001b[0m     \u001b[38;5;28;01massert\u001b[39;00m (p1\u001b[38;5;241m.\u001b[39mshape[\u001b[38;5;241m0\u001b[39m] \u001b[38;5;241m+\u001b[39m \u001b[38;5;241m1\u001b[39m) \u001b[38;5;241m==\u001b[39m p2\u001b[38;5;241m.\u001b[39mshape[\n\u001b[0;32m    128\u001b[0m         \u001b[38;5;241m0\u001b[39m\n\u001b[0;32m    129\u001b[0m     ], \u001b[38;5;124mf\u001b[39m\u001b[38;5;124m\"\u001b[39m\u001b[38;5;124mMismatch in lengths: \u001b[39m\u001b[38;5;132;01m{\u001b[39;00mp1\u001b[38;5;241m.\u001b[39mshape[\u001b[38;5;241m0\u001b[39m]\u001b[38;5;250m \u001b[39m\u001b[38;5;241m+\u001b[39m\u001b[38;5;250m \u001b[39m\u001b[38;5;241m1\u001b[39m\u001b[38;5;132;01m}\u001b[39;00m\u001b[38;5;124m vs \u001b[39m\u001b[38;5;132;01m{\u001b[39;00mp2\u001b[38;5;241m.\u001b[39mshape[\u001b[38;5;241m0\u001b[39m]\u001b[38;5;132;01m}\u001b[39;00m\u001b[38;5;124m\"\u001b[39m\n\u001b[0;32m    130\u001b[0m \u001b[38;5;28;01mreturn\u001b[39;00m p1, p2\n",
      "\u001b[1;31mAssertionError\u001b[0m: Mismatch in lengths: 10 vs 8"
     ]
    }
   ],
   "source": [
    "a, b = process_match(\n",
    "    \"c:/Users/Jonathan Zea/Documents/GitHub/hierarchical-SAE/partidas_guardadas/delet/20250604_0130/2025-06-04_01-30-15_match019.csv\",\n",
    "    result=0,\n",
    ")\n",
    "b"
   ]
  }
 ],
 "metadata": {
  "kernelspec": {
   "display_name": "Python 3",
   "language": "python",
   "name": "python3"
  },
  "language_info": {
   "codemirror_mode": {
    "name": "ipython",
    "version": 3
   },
   "file_extension": ".py",
   "mimetype": "text/x-python",
   "name": "python",
   "nbconvert_exporter": "python",
   "pygments_lexer": "ipython3",
   "version": "3.10.11"
  }
 },
 "nbformat": 4,
 "nbformat_minor": 5
}
