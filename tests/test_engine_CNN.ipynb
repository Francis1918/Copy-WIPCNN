{
 "cells": [
  {
   "cell_type": "code",
   "execution_count": 1,
   "id": "894a778a",
   "metadata": {},
   "outputs": [],
   "source": [
    "%load_ext autoreload\n",
    "import sys\n",
    "from pathlib import Path\n",
    "\n",
    "sys.path.append(str(Path('..').resolve()))"
   ]
  },
  {
   "cell_type": "code",
   "execution_count": 2,
   "id": "bd832998",
   "metadata": {},
   "outputs": [
    {
     "name": "stdout",
     "output_type": "stream",
     "text": [
      "[05-27 13:15:09][DEBUG] Creating logger for Quartopy game\n",
      "[05-27 13:15:09][INFO] 2025-05-27 13:15:09.874142\n",
      "[05-27 13:15:09][DEBUG] quartopy.game.quarto_game importado correctamente\n",
      "Directorio de bots integrado: C:\\Users\\Laboratorio IA\\Desktop\\githubs\\Quartopy\\bot\n"
     ]
    }
   ],
   "source": [
    "from quartopy import go_quarto"
   ]
  },
  {
   "cell_type": "code",
   "execution_count": 3,
   "id": "9ab7ab05",
   "metadata": {},
   "outputs": [
    {
     "name": "stdout",
     "output_type": "stream",
     "text": [
      "\n",
      "\u001b[44m\u001b[30m================ INICIANDO TORNEO DE QUARTO ================\u001b[0m\n",
      "[05-27 13:15:09][INFO] Iniciando torneo de Quarto con 1 partidas entre CNN_bot y random_bot\n",
      "[05-27 13:15:09][INFO] Usando bots desde scripts: CNN_bot y random_bot en la carpeta ../bot/\n",
      "[05-27 13:15:09][INFO] 2025-05-27 13:15:09.911246\n"
     ]
    },
    {
     "ename": "ModuleNotFoundError",
     "evalue": "No module named 'utils.logger'",
     "output_type": "error",
     "traceback": [
      "\u001b[1;31m---------------------------------------------------------------------------\u001b[0m",
      "\u001b[1;31mModuleNotFoundError\u001b[0m                       Traceback (most recent call last)",
      "Cell \u001b[1;32mIn[3], line 1\u001b[0m\n\u001b[1;32m----> 1\u001b[0m \u001b[43mgo_quarto\u001b[49m\u001b[43m(\u001b[49m\n\u001b[0;32m      2\u001b[0m \u001b[43m    \u001b[49m\u001b[38;5;241;43m1\u001b[39;49m\u001b[43m,\u001b[49m\n\u001b[0;32m      3\u001b[0m \u001b[43m    \u001b[49m\u001b[38;5;124;43m\"\u001b[39;49m\u001b[38;5;124;43mCNN_bot\u001b[39;49m\u001b[38;5;124;43m\"\u001b[39;49m\u001b[43m,\u001b[49m\n\u001b[0;32m      4\u001b[0m \u001b[43m    \u001b[49m\u001b[38;5;124;43m\"\u001b[39;49m\u001b[38;5;124;43mrandom_bot\u001b[39;49m\u001b[38;5;124;43m\"\u001b[39;49m\u001b[43m,\u001b[49m\n\u001b[0;32m      5\u001b[0m \u001b[43m    \u001b[49m\u001b[38;5;241;43m0\u001b[39;49m\u001b[43m,\u001b[49m\n\u001b[0;32m      6\u001b[0m \u001b[43m    \u001b[49m\u001b[43mverbose\u001b[49m\u001b[38;5;241;43m=\u001b[39;49m\u001b[38;5;28;43;01mTrue\u001b[39;49;00m\u001b[43m,\u001b[49m\n\u001b[0;32m      7\u001b[0m \u001b[43m    \u001b[49m\u001b[43mbuiltin_bots\u001b[49m\u001b[38;5;241;43m=\u001b[39;49m\u001b[38;5;28;43;01mFalse\u001b[39;49;00m\u001b[43m,\u001b[49m\n\u001b[0;32m      8\u001b[0m \u001b[43m    \u001b[49m\u001b[43mfolder_bots\u001b[49m\u001b[38;5;241;43m=\u001b[39;49m\u001b[38;5;124;43m\"\u001b[39;49m\u001b[38;5;124;43m../bot/\u001b[39;49m\u001b[38;5;124;43m\"\u001b[39;49m\u001b[43m,\u001b[49m\n\u001b[0;32m      9\u001b[0m \u001b[43m)\u001b[49m\n",
      "File \u001b[1;32m~\\Desktop\\githubs\\Quartopy\\quartopy\\game\\play.py:54\u001b[0m, in \u001b[0;36mgo_quarto\u001b[1;34m(matches, player1_file, player2_file, delay, params_p1, params_p2, verbose, folder_bots, builtin_bots)\u001b[0m\n\u001b[0;32m     50\u001b[0m     logger\u001b[38;5;241m.\u001b[39minfo(\n\u001b[0;32m     51\u001b[0m         \u001b[38;5;124mf\u001b[39m\u001b[38;5;124m\"\u001b[39m\u001b[38;5;124mUsando bots desde scripts: \u001b[39m\u001b[38;5;132;01m{\u001b[39;00mplayer1_file\u001b[38;5;132;01m}\u001b[39;00m\u001b[38;5;124m y \u001b[39m\u001b[38;5;132;01m{\u001b[39;00mplayer2_file\u001b[38;5;132;01m}\u001b[39;00m\u001b[38;5;124m en la carpeta \u001b[39m\u001b[38;5;132;01m{\u001b[39;00mfolder_bots\u001b[38;5;132;01m}\u001b[39;00m\u001b[38;5;124m\"\u001b[39m\n\u001b[0;32m     52\u001b[0m     )\n\u001b[0;32m     53\u001b[0m \u001b[38;5;66;03m# Cargar clases de los bots\u001b[39;00m\n\u001b[1;32m---> 54\u001b[0m player1_class \u001b[38;5;241m=\u001b[39m \u001b[43mload_bot_class\u001b[49m\u001b[43m(\u001b[49m\u001b[43mpath\u001b[49m\u001b[38;5;241;43m.\u001b[39;49m\u001b[43mjoin\u001b[49m\u001b[43m(\u001b[49m\u001b[43mfolder_bots\u001b[49m\u001b[43m,\u001b[49m\u001b[43m \u001b[49m\u001b[38;5;124;43mf\u001b[39;49m\u001b[38;5;124;43m\"\u001b[39;49m\u001b[38;5;132;43;01m{\u001b[39;49;00m\u001b[43mplayer1_file\u001b[49m\u001b[38;5;132;43;01m}\u001b[39;49;00m\u001b[38;5;124;43m.py\u001b[39;49m\u001b[38;5;124;43m\"\u001b[39;49m\u001b[43m)\u001b[49m\u001b[43m)\u001b[49m\n\u001b[0;32m     55\u001b[0m player2_class \u001b[38;5;241m=\u001b[39m load_bot_class(path\u001b[38;5;241m.\u001b[39mjoin(folder_bots, \u001b[38;5;124mf\u001b[39m\u001b[38;5;124m\"\u001b[39m\u001b[38;5;132;01m{\u001b[39;00mplayer2_file\u001b[38;5;132;01m}\u001b[39;00m\u001b[38;5;124m.py\u001b[39m\u001b[38;5;124m\"\u001b[39m))\n\u001b[0;32m     56\u001b[0m player1 \u001b[38;5;241m=\u001b[39m player1_class(\u001b[38;5;241m*\u001b[39m\u001b[38;5;241m*\u001b[39mparams_p1)\n",
      "File \u001b[1;32m~\\Desktop\\githubs\\Quartopy\\quartopy\\models\\__init__.py:21\u001b[0m, in \u001b[0;36mload_bot_class\u001b[1;34m(file_path, class_name)\u001b[0m\n\u001b[0;32m     19\u001b[0m module \u001b[38;5;241m=\u001b[39m importlib\u001b[38;5;241m.\u001b[39mutil\u001b[38;5;241m.\u001b[39mmodule_from_spec(spec)\n\u001b[0;32m     20\u001b[0m sys\u001b[38;5;241m.\u001b[39mmodules[module_name] \u001b[38;5;241m=\u001b[39m module\n\u001b[1;32m---> 21\u001b[0m \u001b[43mspec\u001b[49m\u001b[38;5;241;43m.\u001b[39;49m\u001b[43mloader\u001b[49m\u001b[38;5;241;43m.\u001b[39;49m\u001b[43mexec_module\u001b[49m\u001b[43m(\u001b[49m\u001b[43mmodule\u001b[49m\u001b[43m)\u001b[49m\n\u001b[0;32m     23\u001b[0m \u001b[38;5;28;01mif\u001b[39;00m \u001b[38;5;129;01mnot\u001b[39;00m \u001b[38;5;28mhasattr\u001b[39m(module, class_name):\n\u001b[0;32m     24\u001b[0m     \u001b[38;5;28;01mraise\u001b[39;00m \u001b[38;5;167;01mAttributeError\u001b[39;00m(\n\u001b[0;32m     25\u001b[0m         \u001b[38;5;124mf\u001b[39m\u001b[38;5;124m\"\u001b[39m\u001b[38;5;124mMódulo \u001b[39m\u001b[38;5;132;01m{\u001b[39;00mmodule_name\u001b[38;5;132;01m}\u001b[39;00m\u001b[38;5;124m debe contener una clase \u001b[39m\u001b[38;5;124m'\u001b[39m\u001b[38;5;132;01m{\u001b[39;00mclass_name\u001b[38;5;132;01m}\u001b[39;00m\u001b[38;5;124m'\u001b[39m\u001b[38;5;124m\"\u001b[39m\n\u001b[0;32m     26\u001b[0m     )\n",
      "File \u001b[1;32m<frozen importlib._bootstrap_external>:883\u001b[0m, in \u001b[0;36mexec_module\u001b[1;34m(self, module)\u001b[0m\n",
      "File \u001b[1;32m<frozen importlib._bootstrap>:241\u001b[0m, in \u001b[0;36m_call_with_frames_removed\u001b[1;34m(f, *args, **kwds)\u001b[0m\n",
      "File \u001b[1;32mc:\\Users\\Laboratorio IA\\Desktop\\interpretability_experiments\\tests\\..\\bot\\CNN_bot.py:19\u001b[0m\n\u001b[0;32m     16\u001b[0m \u001b[38;5;28;01mfrom\u001b[39;00m \u001b[38;5;21;01mmodels\u001b[39;00m\u001b[38;5;21;01m.\u001b[39;00m\u001b[38;5;21;01mCNN1\u001b[39;00m \u001b[38;5;28;01mimport\u001b[39;00m QuartoCNN\n\u001b[0;32m     17\u001b[0m \u001b[38;5;28;01mfrom\u001b[39;00m \u001b[38;5;21;01mquartopy\u001b[39;00m \u001b[38;5;28;01mimport\u001b[39;00m BotAI, Piece, QuartoGame\n\u001b[1;32m---> 19\u001b[0m \u001b[38;5;28;01mfrom\u001b[39;00m \u001b[38;5;21;01mutils\u001b[39;00m\u001b[38;5;21;01m.\u001b[39;00m\u001b[38;5;21;01mlogger\u001b[39;00m \u001b[38;5;28;01mimport\u001b[39;00m logger\n\u001b[0;32m     20\u001b[0m \u001b[38;5;28;01mfrom\u001b[39;00m \u001b[38;5;21;01mtorch\u001b[39;00m \u001b[38;5;28;01mimport\u001b[39;00m Tensor\n\u001b[0;32m     21\u001b[0m \u001b[38;5;28;01mimport\u001b[39;00m \u001b[38;5;21;01mnumpy\u001b[39;00m \u001b[38;5;28;01mas\u001b[39;00m \u001b[38;5;21;01mnp\u001b[39;00m\n",
      "\u001b[1;31mModuleNotFoundError\u001b[0m: No module named 'utils.logger'"
     ]
    }
   ],
   "source": [
    "go_quarto(\n",
    "    1,\n",
    "    \"CNN_bot\",\n",
    "    \"random_bot\",\n",
    "    0,\n",
    "    verbose=True,\n",
    "    builtin_bots=False,\n",
    "    folder_bots=\"../bot/\",\n",
    ")"
   ]
  },
  {
   "cell_type": "code",
   "execution_count": null,
   "id": "4ec14620",
   "metadata": {},
   "outputs": [
    {
     "name": "stdout",
     "output_type": "stream",
     "text": [
      "\n",
      "\u001b[44m\u001b[30m================ INICIANDO TORNEO DE QUARTO ================\u001b[0m\n",
      "[05-26 21:12:32][INFO] Iniciando torneo de Quarto con 1 partidas entre human y random_bot\n",
      "[05-26 21:12:32][INFO] Usando bots desde scripts: human y random_bot en la carpeta ../bot/\n",
      " Partidas: 1\n",
      " Jugador 1: Human_bot\n",
      " Jugador 2: random_bot\n",
      " Retardo: 0 segundos\n",
      "\n",
      "\n",
      "\u001b[44m\u001b[30m======================= PARTIDA 1/1 ========================\u001b[0m\n",
      "    0      1      2      3\n",
      "  ╔══════╦══════╦══════╦══════╗\n",
      "0 ║      ║      ║      ║      ║\n",
      "  ╠══════╬══════╬══════╬══════╣\n",
      "1 ║      ║      ║      ║      ║\n",
      "  ╠══════╬══════╬══════╬══════╣\n",
      "2 ║      ║      ║      ║      ║\n",
      "  ╠══════╬══════╬══════╬══════╣\n",
      "3 ║      ║      ║      ║      ║\n",
      "  ╚══════╩══════╩══════╩══════╝\n",
      "\n",
      "\u001b[44m\u001b[30m============================================================\u001b[0m\n",
      "\u001b[44m\u001b[30m TURNO (Player 1): random_bot \u001b[0m\n",
      "\u001b[44m\u001b[30m ACCIÓN:              SELECCIONAR PIEZA               \u001b[0m\n",
      "\u001b[44m\u001b[30m============================================================\u001b[0m\n",
      "\n",
      "\n",
      "\u001b[33mPlayer 1 (Human_bot) está seleccionando una pieza...\n",
      "(0, LKRN)\n",
      "(1, LKRH)\n",
      "(2, LKQN)\n",
      "(3, LKQH)\n",
      "(4, LWRN)\n",
      "(5, LWRH)\n",
      "(6, LWQN)\n",
      "(7, LWQH)\n",
      "(8, TKRN)\n",
      "(9, TKRH)\n",
      "(10, TKQN)\n",
      "(11, TKQH)\n",
      "(12, TWRN)\n",
      "(13, TWRH)\n",
      "(14, TWQN)\n",
      "(15, TWQH)\n",
      "[05-26 21:12:34][ERROR] Invalid input: invalid literal for int() with base 10: ''. Defaulting to first valid piece.\n",
      "\u001b[32mSeleccionó la pieza: LITTLE, BLACK, CIRCLE, WITHOUT_HOLE\n",
      "\n",
      "\u001b[36m=== PIEZAS DISPONIBLES ===\n",
      "    0      1      2      3      4      5      6      7\n",
      "  ╔══════╦══════╦══════╦══════╦══════╦══════╦══════╦══════╗\n",
      "0 ║      ║ \u001b[49m\u001b[31mLKRH\u001b[0m ║ \u001b[49m\u001b[31mLKQN\u001b[0m ║ \u001b[49m\u001b[31mLKQH\u001b[0m ║ \u001b[49m\u001b[34mLWRN\u001b[0m ║ \u001b[49m\u001b[34mLWRH\u001b[0m ║ \u001b[49m\u001b[34mLWQN\u001b[0m ║ \u001b[49m\u001b[34mLWQH\u001b[0m ║\n",
      "  ╠══════╬══════╬══════╬══════╬══════╬══════╬══════╬══════╣\n",
      "1 ║ \u001b[49m\u001b[31mTKRN\u001b[0m ║ \u001b[49m\u001b[31mTKRH\u001b[0m ║ \u001b[49m\u001b[31mTKQN\u001b[0m ║ \u001b[49m\u001b[31mTKQH\u001b[0m ║ \u001b[49m\u001b[34mTWRN\u001b[0m ║ \u001b[49m\u001b[34mTWRH\u001b[0m ║ \u001b[49m\u001b[34mTWQN\u001b[0m ║ \u001b[49m\u001b[34mTWQH\u001b[0m ║\n",
      "  ╚══════╩══════╩══════╩══════╩══════╩══════╩══════╩══════╝\n",
      "\n",
      "\u001b[32mPIEZA SELECCIONADA: LKRN\n",
      "\n",
      "\u001b[44m\u001b[30m============================================================\u001b[0m\n",
      "\u001b[44m\u001b[30m TURNO (Player 2): Human_bot \u001b[0m\n",
      "\u001b[44m\u001b[30m ACCIÓN:                COLOCAR PIEZA                 \u001b[0m\n",
      "\u001b[44m\u001b[30m============================================================\u001b[0m\n",
      "\n",
      "\n",
      "\u001b[33mPlayer 2 (random_bot está colocando la pieza seleccionada...\n",
      "\u001b[32mColocó la pieza en posición (0, 2)\n",
      "    0      1      2      3\n",
      "  ╔══════╦══════╦══════╦══════╗\n",
      "0 ║      ║      ║ \u001b[49m\u001b[31mLKRN\u001b[0m ║      ║\n",
      "  ╠══════╬══════╬══════╬══════╣\n",
      "1 ║      ║      ║      ║      ║\n",
      "  ╠══════╬══════╬══════╬══════╣\n",
      "2 ║      ║      ║      ║      ║\n",
      "  ╠══════╬══════╬══════╬══════╣\n",
      "3 ║      ║      ║      ║      ║\n",
      "  ╚══════╩══════╩══════╩══════╝\n",
      "\n",
      "\u001b[44m\u001b[30m============================================================\u001b[0m\n",
      "\u001b[44m\u001b[30m TURNO (Player 2): Human_bot \u001b[0m\n",
      "\u001b[44m\u001b[30m ACCIÓN:              SELECCIONAR PIEZA               \u001b[0m\n",
      "\u001b[44m\u001b[30m============================================================\u001b[0m\n",
      "\n",
      "\n",
      "\u001b[33mPlayer 2 (random_bot) está seleccionando una pieza...\n",
      "\u001b[32mSeleccionó la pieza: LITTLE, BLACK, SQUARE, WITH_HOLE\n",
      "\n",
      "\u001b[36m=== PIEZAS DISPONIBLES ===\n",
      "    0      1      2      3      4      5      6      7\n",
      "  ╔══════╦══════╦══════╦══════╦══════╦══════╦══════╦══════╗\n",
      "0 ║      ║ \u001b[49m\u001b[31mLKRH\u001b[0m ║ \u001b[49m\u001b[31mLKQN\u001b[0m ║      ║ \u001b[49m\u001b[34mLWRN\u001b[0m ║ \u001b[49m\u001b[34mLWRH\u001b[0m ║ \u001b[49m\u001b[34mLWQN\u001b[0m ║ \u001b[49m\u001b[34mLWQH\u001b[0m ║\n",
      "  ╠══════╬══════╬══════╬══════╬══════╬══════╬══════╬══════╣\n",
      "1 ║ \u001b[49m\u001b[31mTKRN\u001b[0m ║ \u001b[49m\u001b[31mTKRH\u001b[0m ║ \u001b[49m\u001b[31mTKQN\u001b[0m ║ \u001b[49m\u001b[31mTKQH\u001b[0m ║ \u001b[49m\u001b[34mTWRN\u001b[0m ║ \u001b[49m\u001b[34mTWRH\u001b[0m ║ \u001b[49m\u001b[34mTWQN\u001b[0m ║ \u001b[49m\u001b[34mTWQH\u001b[0m ║\n",
      "  ╚══════╩══════╩══════╩══════╩══════╩══════╩══════╩══════╝\n",
      "\n",
      "\u001b[32mPIEZA SELECCIONADA: LKQH\n",
      "\n",
      "\u001b[44m\u001b[30m============================================================\u001b[0m\n",
      "\u001b[44m\u001b[30m TURNO (Player 1): random_bot \u001b[0m\n",
      "\u001b[44m\u001b[30m ACCIÓN:                COLOCAR PIEZA                 \u001b[0m\n",
      "\u001b[44m\u001b[30m============================================================\u001b[0m\n",
      "\n",
      "\n",
      "\u001b[33mPlayer 1 (Human_bot está colocando la pieza seleccionada...\n",
      "(0, (0, 0))\n",
      "(1, (0, 1))\n",
      "(2, (0, 3))\n",
      "(3, (1, 0))\n",
      "(4, (1, 1))\n",
      "(5, (1, 2))\n",
      "(6, (1, 3))\n",
      "(7, (2, 0))\n",
      "(8, (2, 1))\n",
      "(9, (2, 2))\n",
      "(10, (2, 3))\n",
      "(11, (3, 0))\n",
      "(12, (3, 1))\n",
      "(13, (3, 2))\n",
      "(14, (3, 3))\n"
     ]
    },
    {
     "ename": "KeyboardInterrupt",
     "evalue": "Interrupted by user",
     "output_type": "error",
     "traceback": [
      "\u001b[1;31m---------------------------------------------------------------------------\u001b[0m",
      "\u001b[1;31mKeyboardInterrupt\u001b[0m                         Traceback (most recent call last)",
      "Cell \u001b[1;32mIn[3], line 1\u001b[0m\n\u001b[1;32m----> 1\u001b[0m \u001b[43mgo_quarto\u001b[49m\u001b[43m(\u001b[49m\n\u001b[0;32m      2\u001b[0m \u001b[43m    \u001b[49m\u001b[38;5;241;43m1\u001b[39;49m\u001b[43m,\u001b[49m\n\u001b[0;32m      3\u001b[0m \u001b[43m    \u001b[49m\u001b[38;5;124;43m\"\u001b[39;49m\u001b[38;5;124;43mhuman\u001b[39;49m\u001b[38;5;124;43m\"\u001b[39;49m\u001b[43m,\u001b[49m\n\u001b[0;32m      4\u001b[0m \u001b[43m    \u001b[49m\u001b[38;5;124;43m\"\u001b[39;49m\u001b[38;5;124;43mrandom_bot\u001b[39;49m\u001b[38;5;124;43m\"\u001b[39;49m\u001b[43m,\u001b[49m\n\u001b[0;32m      5\u001b[0m \u001b[43m    \u001b[49m\u001b[38;5;241;43m0\u001b[39;49m\u001b[43m,\u001b[49m\n\u001b[0;32m      6\u001b[0m \u001b[43m    \u001b[49m\u001b[38;5;28;43;01mTrue\u001b[39;49;00m\u001b[43m,\u001b[49m\n\u001b[0;32m      7\u001b[0m \u001b[43m    \u001b[49m\u001b[43mfolder_bots\u001b[49m\u001b[38;5;241;43m=\u001b[39;49m\u001b[38;5;124;43m\"\u001b[39;49m\u001b[38;5;124;43m../bot/\u001b[39;49m\u001b[38;5;124;43m\"\u001b[39;49m\u001b[43m,\u001b[49m\n\u001b[0;32m      8\u001b[0m \u001b[43m)\u001b[49m\n",
      "File \u001b[1;32m~\\Documents\\GitHub\\Quartopy\\quartopy\\game\\play.py:76\u001b[0m, in \u001b[0;36mgo_quarto\u001b[1;34m(matches, player1_file, player2_file, delay, verbose, folder_bots, builtin_bots)\u001b[0m\n\u001b[0;32m     74\u001b[0m \u001b[38;5;28;01mif\u001b[39;00m verbose:\n\u001b[0;32m     75\u001b[0m     game\u001b[38;5;241m.\u001b[39mdisplay_boards()\n\u001b[1;32m---> 76\u001b[0m \u001b[43mgame\u001b[49m\u001b[38;5;241;43m.\u001b[39;49m\u001b[43mplay_turn\u001b[49m\u001b[43m(\u001b[49m\u001b[43m)\u001b[49m\n\u001b[0;32m     78\u001b[0m \u001b[38;5;28;01mif\u001b[39;00m delay \u001b[38;5;241m>\u001b[39m \u001b[38;5;241m0\u001b[39m:\n\u001b[0;32m     79\u001b[0m     time\u001b[38;5;241m.\u001b[39msleep(delay)\n",
      "File \u001b[1;32m~\\Documents\\GitHub\\Quartopy\\quartopy\\game\\quarto_game.py:96\u001b[0m, in \u001b[0;36mQuartoGame.play_turn\u001b[1;34m(self)\u001b[0m\n\u001b[0;32m     91\u001b[0m \u001b[38;5;28;01massert\u001b[39;00m (\n\u001b[0;32m     92\u001b[0m     piece \u001b[38;5;129;01mnot\u001b[39;00m \u001b[38;5;129;01min\u001b[39;00m \u001b[38;5;28mself\u001b[39m\u001b[38;5;241m.\u001b[39mgame_board\n\u001b[0;32m     93\u001b[0m ), \u001b[38;5;124m\"\u001b[39m\u001b[38;5;124mError, la pieza ya está en el tablero de juego\u001b[39m\u001b[38;5;124m\"\u001b[39m\n\u001b[0;32m     95\u001b[0m \u001b[38;5;28;01mfor\u001b[39;00m n_tries \u001b[38;5;129;01min\u001b[39;00m \u001b[38;5;28mrange\u001b[39m(\u001b[38;5;28mself\u001b[39m\u001b[38;5;241m.\u001b[39mMAX_TRIES):\n\u001b[1;32m---> 96\u001b[0m     row, col \u001b[38;5;241m=\u001b[39m \u001b[43mcurrent_player\u001b[49m\u001b[38;5;241;43m.\u001b[39;49m\u001b[43mplace_piece\u001b[49m\u001b[43m(\u001b[49m\u001b[38;5;28;43mself\u001b[39;49m\u001b[43m,\u001b[49m\u001b[43m \u001b[49m\u001b[43mpiece\u001b[49m\u001b[43m,\u001b[49m\u001b[43m \u001b[49m\u001b[43mn_tries\u001b[49m\u001b[43m)\u001b[49m\n\u001b[0;32m     98\u001b[0m     \u001b[38;5;28;01mif\u001b[39;00m \u001b[38;5;28mself\u001b[39m\u001b[38;5;241m.\u001b[39mgame_board\u001b[38;5;241m.\u001b[39mis_empty(row, col):\n\u001b[0;32m     99\u001b[0m         valid_placement \u001b[38;5;241m=\u001b[39m \u001b[38;5;28;01mTrue\u001b[39;00m\n",
      "File \u001b[1;32mc:\\Users\\Jonathan Zea\\Documents\\GitHub\\hierarchical-SAE\\tests\\..\\bot\\human.py:55\u001b[0m, in \u001b[0;36mQuarto_bot.place_piece\u001b[1;34m(self, game, piece, ith_option, *args, **kwargs)\u001b[0m\n\u001b[0;32m     52\u001b[0m \u001b[38;5;28;01massert\u001b[39;00m valid_moves, \u001b[38;5;124m\"\u001b[39m\u001b[38;5;124mNo valid moves available on the game board.\u001b[39m\u001b[38;5;124m\"\u001b[39m\n\u001b[0;32m     54\u001b[0m \u001b[38;5;28mprint\u001b[39m(\u001b[38;5;241m*\u001b[39m\u001b[38;5;28mzip\u001b[39m(\u001b[38;5;28mrange\u001b[39m(\u001b[38;5;28mlen\u001b[39m(valid_moves)), valid_moves), sep\u001b[38;5;241m=\u001b[39m\u001b[38;5;124m\"\u001b[39m\u001b[38;5;130;01m\\n\u001b[39;00m\u001b[38;5;124m\"\u001b[39m)\n\u001b[1;32m---> 55\u001b[0m option \u001b[38;5;241m=\u001b[39m \u001b[38;5;28;43minput\u001b[39;49m\u001b[43m(\u001b[49m\u001b[38;5;124;43mf\u001b[39;49m\u001b[38;5;124;43m\"\u001b[39;49m\u001b[38;5;124;43mSelect a coordinate [0-\u001b[39;49m\u001b[38;5;132;43;01m{\u001b[39;49;00m\u001b[38;5;28;43mlen\u001b[39;49m\u001b[43m(\u001b[49m\u001b[43mvalid_moves\u001b[49m\u001b[43m)\u001b[49m\u001b[38;5;241;43m-\u001b[39;49m\u001b[38;5;241;43m1\u001b[39;49m\u001b[38;5;132;43;01m}\u001b[39;49;00m\u001b[38;5;124;43m]: \u001b[39;49m\u001b[38;5;124;43m\"\u001b[39;49m\u001b[43m)\u001b[49m\n\u001b[0;32m     56\u001b[0m \u001b[38;5;28;01mtry\u001b[39;00m:\n\u001b[0;32m     57\u001b[0m     option \u001b[38;5;241m=\u001b[39m \u001b[38;5;28mint\u001b[39m(option)\n",
      "File \u001b[1;32m~\\AppData\\Roaming\\Python\\Python310\\site-packages\\ipykernel\\kernelbase.py:1191\u001b[0m, in \u001b[0;36mKernel.raw_input\u001b[1;34m(self, prompt)\u001b[0m\n\u001b[0;32m   1189\u001b[0m     msg \u001b[38;5;241m=\u001b[39m \u001b[38;5;124m\"\u001b[39m\u001b[38;5;124mraw_input was called, but this frontend does not support input requests.\u001b[39m\u001b[38;5;124m\"\u001b[39m\n\u001b[0;32m   1190\u001b[0m     \u001b[38;5;28;01mraise\u001b[39;00m StdinNotImplementedError(msg)\n\u001b[1;32m-> 1191\u001b[0m \u001b[38;5;28;01mreturn\u001b[39;00m \u001b[38;5;28;43mself\u001b[39;49m\u001b[38;5;241;43m.\u001b[39;49m\u001b[43m_input_request\u001b[49m\u001b[43m(\u001b[49m\n\u001b[0;32m   1192\u001b[0m \u001b[43m    \u001b[49m\u001b[38;5;28;43mstr\u001b[39;49m\u001b[43m(\u001b[49m\u001b[43mprompt\u001b[49m\u001b[43m)\u001b[49m\u001b[43m,\u001b[49m\n\u001b[0;32m   1193\u001b[0m \u001b[43m    \u001b[49m\u001b[38;5;28;43mself\u001b[39;49m\u001b[38;5;241;43m.\u001b[39;49m\u001b[43m_parent_ident\u001b[49m\u001b[43m[\u001b[49m\u001b[38;5;124;43m\"\u001b[39;49m\u001b[38;5;124;43mshell\u001b[39;49m\u001b[38;5;124;43m\"\u001b[39;49m\u001b[43m]\u001b[49m\u001b[43m,\u001b[49m\n\u001b[0;32m   1194\u001b[0m \u001b[43m    \u001b[49m\u001b[38;5;28;43mself\u001b[39;49m\u001b[38;5;241;43m.\u001b[39;49m\u001b[43mget_parent\u001b[49m\u001b[43m(\u001b[49m\u001b[38;5;124;43m\"\u001b[39;49m\u001b[38;5;124;43mshell\u001b[39;49m\u001b[38;5;124;43m\"\u001b[39;49m\u001b[43m)\u001b[49m\u001b[43m,\u001b[49m\n\u001b[0;32m   1195\u001b[0m \u001b[43m    \u001b[49m\u001b[43mpassword\u001b[49m\u001b[38;5;241;43m=\u001b[39;49m\u001b[38;5;28;43;01mFalse\u001b[39;49;00m\u001b[43m,\u001b[49m\n\u001b[0;32m   1196\u001b[0m \u001b[43m\u001b[49m\u001b[43m)\u001b[49m\n",
      "File \u001b[1;32m~\\AppData\\Roaming\\Python\\Python310\\site-packages\\ipykernel\\kernelbase.py:1234\u001b[0m, in \u001b[0;36mKernel._input_request\u001b[1;34m(self, prompt, ident, parent, password)\u001b[0m\n\u001b[0;32m   1231\u001b[0m \u001b[38;5;28;01mexcept\u001b[39;00m \u001b[38;5;167;01mKeyboardInterrupt\u001b[39;00m:\n\u001b[0;32m   1232\u001b[0m     \u001b[38;5;66;03m# re-raise KeyboardInterrupt, to truncate traceback\u001b[39;00m\n\u001b[0;32m   1233\u001b[0m     msg \u001b[38;5;241m=\u001b[39m \u001b[38;5;124m\"\u001b[39m\u001b[38;5;124mInterrupted by user\u001b[39m\u001b[38;5;124m\"\u001b[39m\n\u001b[1;32m-> 1234\u001b[0m     \u001b[38;5;28;01mraise\u001b[39;00m \u001b[38;5;167;01mKeyboardInterrupt\u001b[39;00m(msg) \u001b[38;5;28;01mfrom\u001b[39;00m \u001b[38;5;28;01mNone\u001b[39;00m\n\u001b[0;32m   1235\u001b[0m \u001b[38;5;28;01mexcept\u001b[39;00m \u001b[38;5;167;01mException\u001b[39;00m:\n\u001b[0;32m   1236\u001b[0m     \u001b[38;5;28mself\u001b[39m\u001b[38;5;241m.\u001b[39mlog\u001b[38;5;241m.\u001b[39mwarning(\u001b[38;5;124m\"\u001b[39m\u001b[38;5;124mInvalid Message:\u001b[39m\u001b[38;5;124m\"\u001b[39m, exc_info\u001b[38;5;241m=\u001b[39m\u001b[38;5;28;01mTrue\u001b[39;00m)\n",
      "\u001b[1;31mKeyboardInterrupt\u001b[0m: Interrupted by user"
     ]
    }
   ],
   "source": [
    "go_quarto(\n",
    "    1,\n",
    "    \"human\",\n",
    "    \"random_bot\",\n",
    "    0,\n",
    "    True,\n",
    "    folder_bots=\"../bot/\",\n",
    ")"
   ]
  }
 ],
 "metadata": {
  "kernelspec": {
   "display_name": "Python 3",
   "language": "python",
   "name": "python3"
  },
  "language_info": {
   "codemirror_mode": {
    "name": "ipython",
    "version": 3
   },
   "file_extension": ".py",
   "mimetype": "text/x-python",
   "name": "python",
   "nbconvert_exporter": "python",
   "pygments_lexer": "ipython3",
   "version": "3.10.11"
  }
 },
 "nbformat": 4,
 "nbformat_minor": 5
}
