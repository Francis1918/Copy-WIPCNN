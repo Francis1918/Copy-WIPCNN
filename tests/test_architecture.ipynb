{
 "cells": [
  {
   "cell_type": "code",
   "execution_count": 2,
   "id": "98f8d0d5",
   "metadata": {},
   "outputs": [],
   "source": [
    "%load_ext autoreload\n",
    "import sys\n",
    "from pathlib import Path\n",
    "\n",
    "sys.path.append(str(Path('..').resolve()))"
   ]
  },
  {
   "cell_type": "code",
   "execution_count": 3,
   "id": "c28fb101",
   "metadata": {},
   "outputs": [
    {
     "name": "stdout",
     "output_type": "stream",
     "text": [
      "[06-03 20:35:06][INFO] 2025-06-03 20:35:06.123575\n",
      "tensor([[[[0., 0., 0., 1.],\n",
      "          [0., 1., 0., 0.],\n",
      "          [1., 0., 0., 0.],\n",
      "          [0., 0., 0., 0.]],\n",
      "\n",
      "         [[0., 0., 0., 0.],\n",
      "          [0., 0., 0., 0.],\n",
      "          [0., 0., 0., 0.],\n",
      "          [1., 0., 0., 0.]],\n",
      "\n",
      "         [[0., 0., 0., 0.],\n",
      "          [0., 0., 0., 1.],\n",
      "          [0., 1., 0., 1.],\n",
      "          [0., 0., 0., 0.]],\n",
      "\n",
      "         [[0., 0., 0., 1.],\n",
      "          [1., 0., 0., 0.],\n",
      "          [0., 1., 0., 0.],\n",
      "          [0., 0., 0., 0.]],\n",
      "\n",
      "         [[1., 1., 0., 0.],\n",
      "          [0., 0., 0., 0.],\n",
      "          [0., 0., 1., 0.],\n",
      "          [0., 0., 0., 0.]],\n",
      "\n",
      "         [[0., 1., 0., 0.],\n",
      "          [0., 0., 0., 1.],\n",
      "          [0., 0., 1., 0.],\n",
      "          [1., 0., 0., 0.]],\n",
      "\n",
      "         [[1., 1., 0., 0.],\n",
      "          [1., 1., 1., 0.],\n",
      "          [0., 0., 0., 0.],\n",
      "          [0., 0., 1., 0.]],\n",
      "\n",
      "         [[0., 1., 0., 1.],\n",
      "          [0., 0., 0., 1.],\n",
      "          [0., 1., 0., 0.],\n",
      "          [0., 0., 0., 0.]],\n",
      "\n",
      "         [[0., 0., 0., 1.],\n",
      "          [1., 0., 0., 0.],\n",
      "          [0., 0., 0., 1.],\n",
      "          [0., 0., 0., 0.]],\n",
      "\n",
      "         [[0., 0., 0., 1.],\n",
      "          [0., 1., 0., 0.],\n",
      "          [0., 0., 0., 0.],\n",
      "          [0., 0., 0., 0.]],\n",
      "\n",
      "         [[0., 0., 1., 0.],\n",
      "          [1., 0., 0., 0.],\n",
      "          [0., 0., 0., 0.],\n",
      "          [0., 0., 1., 1.]],\n",
      "\n",
      "         [[0., 1., 0., 1.],\n",
      "          [0., 1., 1., 0.],\n",
      "          [0., 1., 1., 1.],\n",
      "          [1., 0., 0., 0.]],\n",
      "\n",
      "         [[0., 0., 0., 0.],\n",
      "          [0., 0., 0., 0.],\n",
      "          [0., 0., 1., 0.],\n",
      "          [1., 1., 1., 0.]],\n",
      "\n",
      "         [[0., 1., 0., 0.],\n",
      "          [1., 0., 0., 0.],\n",
      "          [0., 0., 0., 0.],\n",
      "          [1., 0., 0., 1.]],\n",
      "\n",
      "         [[0., 1., 0., 0.],\n",
      "          [0., 0., 0., 0.],\n",
      "          [1., 0., 0., 0.],\n",
      "          [0., 0., 1., 0.]],\n",
      "\n",
      "         [[0., 0., 0., 0.],\n",
      "          [1., 0., 0., 0.],\n",
      "          [1., 0., 0., 0.],\n",
      "          [0., 0., 0., 0.]]],\n",
      "\n",
      "\n",
      "        [[[0., 1., 0., 0.],\n",
      "          [0., 0., 0., 0.],\n",
      "          [0., 1., 1., 0.],\n",
      "          [0., 1., 0., 0.]],\n",
      "\n",
      "         [[0., 0., 0., 0.],\n",
      "          [0., 1., 0., 0.],\n",
      "          [0., 0., 0., 0.],\n",
      "          [0., 0., 0., 0.]],\n",
      "\n",
      "         [[1., 0., 0., 0.],\n",
      "          [0., 1., 0., 0.],\n",
      "          [0., 0., 0., 0.],\n",
      "          [1., 1., 0., 1.]],\n",
      "\n",
      "         [[1., 0., 0., 0.],\n",
      "          [0., 0., 0., 1.],\n",
      "          [0., 0., 0., 0.],\n",
      "          [1., 0., 1., 0.]],\n",
      "\n",
      "         [[1., 0., 0., 0.],\n",
      "          [0., 0., 1., 0.],\n",
      "          [0., 1., 0., 0.],\n",
      "          [0., 1., 0., 0.]],\n",
      "\n",
      "         [[0., 0., 0., 0.],\n",
      "          [0., 0., 0., 0.],\n",
      "          [1., 0., 0., 0.],\n",
      "          [1., 0., 0., 0.]],\n",
      "\n",
      "         [[1., 0., 0., 1.],\n",
      "          [1., 1., 1., 0.],\n",
      "          [0., 1., 1., 0.],\n",
      "          [0., 1., 0., 0.]],\n",
      "\n",
      "         [[0., 1., 1., 0.],\n",
      "          [0., 0., 0., 0.],\n",
      "          [0., 0., 0., 0.],\n",
      "          [0., 0., 0., 0.]],\n",
      "\n",
      "         [[0., 1., 1., 0.],\n",
      "          [0., 0., 1., 0.],\n",
      "          [1., 0., 0., 0.],\n",
      "          [1., 0., 0., 0.]],\n",
      "\n",
      "         [[1., 0., 1., 1.],\n",
      "          [1., 0., 0., 0.],\n",
      "          [0., 0., 1., 0.],\n",
      "          [0., 1., 0., 0.]],\n",
      "\n",
      "         [[0., 0., 0., 0.],\n",
      "          [0., 0., 0., 0.],\n",
      "          [0., 1., 0., 0.],\n",
      "          [0., 0., 0., 0.]],\n",
      "\n",
      "         [[1., 0., 1., 0.],\n",
      "          [0., 0., 0., 0.],\n",
      "          [0., 0., 0., 0.],\n",
      "          [1., 0., 0., 1.]],\n",
      "\n",
      "         [[0., 0., 0., 0.],\n",
      "          [1., 0., 0., 0.],\n",
      "          [1., 0., 1., 0.],\n",
      "          [0., 0., 0., 0.]],\n",
      "\n",
      "         [[0., 0., 0., 0.],\n",
      "          [1., 0., 0., 0.],\n",
      "          [0., 0., 0., 1.],\n",
      "          [0., 0., 0., 1.]],\n",
      "\n",
      "         [[0., 0., 0., 1.],\n",
      "          [1., 0., 0., 0.],\n",
      "          [0., 0., 0., 0.],\n",
      "          [0., 0., 0., 0.]],\n",
      "\n",
      "         [[0., 1., 0., 0.],\n",
      "          [0., 1., 0., 0.],\n",
      "          [1., 0., 0., 0.],\n",
      "          [0., 0., 0., 1.]]]])\n",
      "tensor([[ 1,  4,  2,  3, 13],\n",
      "        [10,  7, 13,  8,  4]])\n",
      "tensor([[ 8,  1,  3,  0,  5],\n",
      "        [ 9,  4,  6,  1, 15]])\n"
     ]
    }
   ],
   "source": [
    "%autoreload 2\n",
    "from models import QuartoCNN\n",
    "import torch\n",
    "model = QuartoCNN()\n",
    "# torch.manual_seed(42)\n",
    "input_board = torch.randn(2, 16, 4, 4)\n",
    "input_piece = torch.rand(2, 16)\n",
    "input_piece = torch.round(input_piece)\n",
    "input_board = abs(torch.round(input_board/torch.max(input_board)))\n",
    "print(input_board)\n",
    "out1, out2 = model.predict(input_board, input_piece, TEMPERATURE=0.1, DETERMINISTIC=False)\n",
    "print(out1[:,:5])\n",
    "print(out2[:,:5])"
   ]
  },
  {
   "cell_type": "code",
   "execution_count": 4,
   "id": "07794fc5",
   "metadata": {},
   "outputs": [
    {
     "data": {
      "text/plain": [
       "'C:\\\\Users\\\\Jonathan Zea\\\\Documents\\\\GitHub\\\\hierarchical-SAE\\\\models/weights/QuartoCNN1\\\\20250603_2035-aqui3.pt'"
      ]
     },
     "execution_count": 4,
     "metadata": {},
     "output_type": "execute_result"
    }
   ],
   "source": [
    "model.export_model(\"aqui3\")"
   ]
  },
  {
   "cell_type": "code",
   "execution_count": 5,
   "id": "d2fb7369",
   "metadata": {},
   "outputs": [],
   "source": [
    "model_load = QuartoCNN.from_file(\n",
    "    \"C:\\\\Users\\\\Jonathan Zea\\\\Documents\\\\GitHub\\\\hierarchical-SAE\\\\models/weights/QuartoCNN1\\\\20250601_1227-aqui3.pt\"\n",
    ")"
   ]
  },
  {
   "cell_type": "code",
   "execution_count": 10,
   "id": "30882f19",
   "metadata": {},
   "outputs": [],
   "source": [
    "a, b = model_load.forward(input_board, input_piece)"
   ]
  },
  {
   "cell_type": "code",
   "execution_count": 15,
   "id": "abfc9bb1",
   "metadata": {},
   "outputs": [
    {
     "data": {
      "text/plain": [
       "tensor([[ 0.0876,  0.0185, -0.0526,  0.0531,  0.1042,  0.0057, -0.0370, -0.0508,\n",
       "         -0.0775, -0.0640, -0.0071,  0.0690,  0.0491, -0.0749,  0.0130, -0.0066],\n",
       "        [ 0.0812,  0.0275, -0.0405,  0.0567,  0.1186, -0.0019, -0.0421, -0.0494,\n",
       "         -0.0795, -0.0710, -0.0160,  0.0802,  0.0330, -0.0669,  0.0042,  0.0016]],\n",
       "       grad_fn=<TanhBackward0>)"
      ]
     },
     "execution_count": 15,
     "metadata": {},
     "output_type": "execute_result"
    }
   ],
   "source": [
    "b"
   ]
  },
  {
   "cell_type": "code",
   "execution_count": 6,
   "id": "c5bfc44d",
   "metadata": {},
   "outputs": [
    {
     "name": "stdout",
     "output_type": "stream",
     "text": [
      "tensor([[14,  0, 15, 13, 12],\n",
      "        [ 6, 10, 15, 14,  2]])\n",
      "tensor([[13,  8,  5,  4, 10],\n",
      "        [10,  0, 12, 14, 15]])\n"
     ]
    }
   ],
   "source": [
    "out1, out2 = model_load.predict(\n",
    "    input_board, input_piece, TEMPERATURE=0.1, DETERMINISTIC=False\n",
    ")\n",
    "print(out1[:, :5])\n",
    "print(out2[:, :5])"
   ]
  }
 ],
 "metadata": {
  "kernelspec": {
   "display_name": "Python 3",
   "language": "python",
   "name": "python3"
  },
  "language_info": {
   "codemirror_mode": {
    "name": "ipython",
    "version": 3
   },
   "file_extension": ".py",
   "mimetype": "text/x-python",
   "name": "python",
   "nbconvert_exporter": "python",
   "pygments_lexer": "ipython3",
   "version": "3.10.11"
  }
 },
 "nbformat": 4,
 "nbformat_minor": 5
}
