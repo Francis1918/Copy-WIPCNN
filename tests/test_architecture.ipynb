{
 "cells": [
  {
   "cell_type": "code",
   "execution_count": 15,
   "id": "98f8d0d5",
   "metadata": {},
   "outputs": [
    {
     "name": "stdout",
     "output_type": "stream",
     "text": [
      "The autoreload extension is already loaded. To reload it, use:\n",
      "  %reload_ext autoreload\n"
     ]
    }
   ],
   "source": [
    "%load_ext autoreload\n",
    "import sys\n",
    "from pathlib import Path\n",
    "\n",
    "sys.path.append(str(Path('..').resolve()))"
   ]
  },
  {
   "cell_type": "code",
   "execution_count": 16,
   "id": "c28fb101",
   "metadata": {},
   "outputs": [
    {
     "name": "stdout",
     "output_type": "stream",
     "text": [
      "tensor([[[[0., 1., 1., 0.],\n",
      "          [0., 1., 0., 0.],\n",
      "          [1., 1., 0., 0.],\n",
      "          [0., 0., 1., 0.]],\n",
      "\n",
      "         [[0., 0., 1., 0.],\n",
      "          [0., 1., 0., 1.],\n",
      "          [1., 1., 0., 0.],\n",
      "          [0., 0., 1., 0.]],\n",
      "\n",
      "         [[0., 0., 0., 0.],\n",
      "          [1., 0., 1., 1.],\n",
      "          [0., 0., 1., 0.],\n",
      "          [0., 0., 0., 1.]],\n",
      "\n",
      "         [[1., 1., 1., 0.],\n",
      "          [0., 0., 0., 0.],\n",
      "          [1., 0., 0., 1.],\n",
      "          [0., 0., 0., 0.]]]])\n",
      "tensor([[12,  5, 12, 14,  3]])\n",
      "tensor([[9, 4, 2, 4, 4]])\n"
     ]
    }
   ],
   "source": [
    "%autoreload 2\n",
    "from bot import QuartoCNN\n",
    "import torch\n",
    "model = QuartoCNN()\n",
    "# torch.manual_seed(42)\n",
    "input_tensor = torch.randn(1, 4, 4, 4)\n",
    "input_tensor = abs(torch.round(input_tensor/torch.max(input_tensor)))\n",
    "print(input_tensor)\n",
    "out1, out2 = model.predict(input_tensor, TEMPERATURE=0.1, DETERMINISTIC=False)\n",
    "print(out1[:,:5])\n",
    "print(out2[:,:5])"
   ]
  }
 ],
 "metadata": {
  "kernelspec": {
   "display_name": "Python 3",
   "language": "python",
   "name": "python3"
  },
  "language_info": {
   "codemirror_mode": {
    "name": "ipython",
    "version": 3
   },
   "file_extension": ".py",
   "mimetype": "text/x-python",
   "name": "python",
   "nbconvert_exporter": "python",
   "pygments_lexer": "ipython3",
   "version": "3.10.11"
  }
 },
 "nbformat": 4,
 "nbformat_minor": 5
}
